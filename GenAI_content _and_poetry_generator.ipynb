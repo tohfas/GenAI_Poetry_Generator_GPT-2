{
 "cells": [
  {
   "cell_type": "code",
   "execution_count": 19,
   "id": "87564b7a",
   "metadata": {},
   "outputs": [
    {
     "name": "stdout",
     "output_type": "stream",
     "text": [
      "Enter a topic or theme for the poem: Passion and curiosity leads to innovation\n",
      "\n",
      "Generated Poetry:\n",
      "\n",
      "Poem 1:\n",
      "Passion and curiosity leads to innovation and innovation leads to innovation.\n",
      "\n",
      "The first step is to understand the nature of the problem. The problem is that the world is changing. The world is changing because of the human condition\n"
     ]
    }
   ],
   "source": [
    "import torch\n",
    "from transformers import GPT2LMHeadModel, GPT2Tokenizer\n",
    "\n",
    "# Load pre-trained GPT-2 tokenizer and model\n",
    "tokenizer = GPT2Tokenizer.from_pretrained(\"gpt2\")\n",
    "model = GPT2LMHeadModel.from_pretrained(\"gpt2\")\n",
    "\n",
    "# Function to generate poetry based on user prompt\n",
    "def generate_poetry(prompt, max_length=45, num_return_sequences=1, temperature=0.7):\n",
    "    # Tokenize input prompt\n",
    "    input_ids = tokenizer.encode(prompt, return_tensors=\"pt\")\n",
    "\n",
    "    # Generate poetry based on input prompt\n",
    "    output = model.generate(input_ids, \n",
    "                            max_length=max_length, \n",
    "                            num_return_sequences=num_return_sequences, \n",
    "                            temperature=temperature,\n",
    "                            pad_token_id=tokenizer.eos_token_id)\n",
    "    \n",
    "    # Decode generated output\n",
    "    generated_poetry = [tokenizer.decode(poem, skip_special_tokens=True) for poem in output]\n",
    "    \n",
    "    return generated_poetry\n",
    "\n",
    "# Prompt user for input topic or theme for the poem\n",
    "user_prompt = input(\"Enter a topic or theme for the poem: \")\n",
    "\n",
    "# Generate poetry based on user prompt\n",
    "generated_poetry = generate_poetry(user_prompt)\n",
    "\n",
    "# Display generated poetry\n",
    "print(\"\\nGenerated Poetry:\")\n",
    "for i, poem in enumerate(generated_poetry, 1):\n",
    "    print(f\"\\nPoem {i}:\\n{poem}\")\n"
   ]
  },
  {
   "cell_type": "code",
   "execution_count": null,
   "id": "d5362e7d",
   "metadata": {},
   "outputs": [],
   "source": []
  },
  {
   "cell_type": "code",
   "execution_count": null,
   "id": "2ffb8d09",
   "metadata": {},
   "outputs": [],
   "source": []
  }
 ],
 "metadata": {
  "kernelspec": {
   "display_name": "Python 3 (ipykernel)",
   "language": "python",
   "name": "python3"
  },
  "language_info": {
   "codemirror_mode": {
    "name": "ipython",
    "version": 3
   },
   "file_extension": ".py",
   "mimetype": "text/x-python",
   "name": "python",
   "nbconvert_exporter": "python",
   "pygments_lexer": "ipython3",
   "version": "3.9.7"
  }
 },
 "nbformat": 4,
 "nbformat_minor": 5
}
